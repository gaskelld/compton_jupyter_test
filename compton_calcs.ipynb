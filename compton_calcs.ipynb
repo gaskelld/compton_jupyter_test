{
 "cells": [
  {
   "cell_type": "markdown",
   "metadata": {},
   "source": [
    "## Compton calculations\n",
    "Notebook to calculate Compton rates, asymmetries, etc.\n",
    "Default units are cm and MeV"
   ]
  },
  {
   "cell_type": "code",
   "execution_count": null,
   "metadata": {},
   "outputs": [],
   "source": [
    "import numpy as np\n",
    "import scipy.integrate as integrate\n",
    "import math\n",
    "import matplotlib.pyplot as plt"
   ]
  },
  {
   "cell_type": "code",
   "execution_count": null,
   "metadata": {},
   "outputs": [],
   "source": [
    "#Define some constants/parameters\n",
    "Me=0.51099006\n",
    "re=2.818E-13\n",
    "hbarc=1.9732858E-11\n",
    "e=1.6022E-19\n",
    "c=2.9979E10\n",
    "# Laser parameters\n",
    "laser_lambda=532E-7\n",
    "sigmalaser=100E-4\n",
    "siglaserz=60E-12*c\n",
    "alphac=10E-3\n",
    "alpha=alphac/2.0\n",
    "plaser = 5\n",
    "# Beam parameters\n",
    "Ebeam=5000\n",
    "#Ebeam=11000\n",
    "Ibeam=1\n",
    "sigmabeam=300E-4\n",
    "sigbeamz = 60E-12*c\n",
    "flas=100E6\n",
    "fbeam=100E6\n",
    "fcoll=78000"
   ]
  },
  {
   "cell_type": "code",
   "execution_count": null,
   "metadata": {},
   "outputs": [],
   "source": [
    "Elaser = hbarc*2*math.pi/laser_lambda\n",
    "gam = Ebeam/Me\n",
    "a = 1.0/(1 + 4*gam*Elaser/Me)\n",
    "Egmax = 4*gam**2*a*Elaser\n",
    "Thetahalf = np.sqrt(1/(a*gam**2))\n",
    "#thetagamma = np.sqrt((Elaser/(rho*Egmax)*4.0*a*gam**2 - 1)/(a*gam**2))\n",
    "#rho = Eg/Egmax \n",
    "rho0 = 1/(1 + a)\n",
    "Pbeam = np.sqrt(Ebeam**2 - Me**2) \n",
    "rhomin=Elaser/Egmax\n",
    "print('Laser energy (MeV): ',Elaser)\n",
    "print('Maximum backscattered photon energy (MeV): ',Egmax)\n",
    "print('Photon cone half-angle (deg.): ',Thetahalf*180/math.pi)\n",
    "print('Rho at zero crossing: ',rho0)"
   ]
  },
  {
   "cell_type": "code",
   "execution_count": null,
   "metadata": {},
   "outputs": [],
   "source": [
    "#Define some functions\n",
    "def compton_xsec(rho):\n",
    " first = rho**2*(1.0-a)**2/(1.0-rho*(1.-a))\n",
    " second = (1-rho*(1+a))/(1-rho*(1-a))\n",
    " dsig = 2.*math.pi*re**2*a*(first+1.0+second**2)\n",
    " return dsig\n",
    "\n",
    "def compton_asy_par(rho):\n",
    " first = rho**2*(1.0-a)**2/(1.0-rho*(1.-a))\n",
    " second = (1-rho*(1+a))/(1-rho*(1-a))\n",
    "\n",
    " term1 = 1.0/(first+1.0+second**2)\n",
    " term2 = 1.0-rho*(1+a)\n",
    " term3 = 1.0-1.0/(1.0-rho*(1.-a))**2\n",
    "\n",
    " asy=term1*term2*term3\n",
    "\n",
    " return asy\n",
    "\n",
    "def compton_asy_perp(rho):\n",
    " first = rho**2*(1.0-a)**2/(1.0-rho*(1.-a))\n",
    " second = (1-rho*(1+a))/(1-rho*(1-a))\n",
    "\n",
    " term1 = 1.0/(first+1.0+second**2)\n",
    " term2 = rho*(1-a)\n",
    " term3 = np.sqrt(4*a*rho*(1-rho))/(1-rho*(1-a))\n",
    "\n",
    " asy = term1*term2*term3\n",
    " return asy\n",
    " "
   ]
  },
  {
   "cell_type": "code",
   "execution_count": null,
   "metadata": {},
   "outputs": [],
   "source": [
    "#Calculate luminosity, cross section\n",
    "Ne = Ibeam/e/c\n",
    "Nphot = plaser/(e*1E6*Elaser*c)\n",
    "LumiCW = c*(1.0 + np.cos(alphac))*Ne*Nphot/(np.sin(alphac)*np.sqrt(2*math.pi)*np.sqrt(sigmabeam**2 + sigmalaser**2))\n",
    "print('Luminosity for CW laser/beam (small crossing angle): ', LumiCW)\n",
    "Nep = Ibeam/e/fbeam\n",
    "Nphotp = plaser/(e*1E6*Elaser*flas)\n",
    "LumiP = flas*Nep*Nphotp*np.cos(alpha)/2/math.pi*1/np.sqrt(sigmabeam**2+sigmalaser**2)*1/np.sqrt((sigmabeam**2+sigmalaser**2)*np.cos(alpha)**2+(siglaserz**2+sigbeamz**2)*np.sin(alpha)**2)\n",
    "print('Luminosity for Pulsed laser/beam (small crossing angle): ', LumiP)\n",
    "LumiSingleBunch = fcoll*Nep*Nphotp*np.cos(alpha)/2/math.pi*1/np.sqrt(sigmabeam**2+sigmalaser**2)*1/np.sqrt((sigmabeam**2+sigmalaser**2)*np.cos(alpha)**2+(siglaserz**2+sigbeamz**2)*np.sin(alpha)**2)\n",
    "print('Luminosity for Pulsed laser colliding with one beam bunch (small crossing angle): ', LumiSingleBunch)\n",
    "xsect = integrate.quad(lambda rho: compton_xsec(rho),rhomin,1.0)\n",
    "rate = xsect[0]*LumiSingleBunch\n",
    "print('Backscattered photon rate (Hz)', rate)"
   ]
  },
  {
   "cell_type": "code",
   "execution_count": null,
   "metadata": {},
   "outputs": [],
   "source": [
    "rr = np.arange(0,1.0,0.01)\n",
    "plt.xlabel(r'$\\rho=E_{\\gamma}/E^\\mathrm{max}_{\\gamma}$',fontsize=18)\n",
    "plt.ylabel(r'$\\frac{d\\sigma}{d\\rho}$',fontsize=18)\n",
    "plt.plot(rr, compton_xsec(rr))"
   ]
  },
  {
   "cell_type": "code",
   "execution_count": null,
   "metadata": {},
   "outputs": [],
   "source": [
    "rr = np.arange(0,1.0,0.01)\n",
    "plt.xlabel(r'$\\rho=E_{\\gamma}/E^\\mathrm{max}_{\\gamma}$',fontsize=18)\n",
    "plt.ylabel(r'$A_\\mathrm{par}$',fontsize=18)\n",
    "plt.plot(rr, compton_asy_par(rr))"
   ]
  },
  {
   "cell_type": "code",
   "execution_count": null,
   "metadata": {},
   "outputs": [],
   "source": [
    "plt.xlabel(r'$\\rho=E_{\\gamma}/E^\\mathrm{max}_{\\gamma}$',fontsize=18)\n",
    "plt.ylabel(r'$A_\\mathrm{perp}$',fontsize=18)\n",
    "plt.plot(rr, compton_asy_perp(rr))"
   ]
  },
  {
   "cell_type": "code",
   "execution_count": null,
   "metadata": {},
   "outputs": [],
   "source": [
    "# Calculate measurement times\n",
    "# need to define desired statistical precision (dP/P) and polarization\n",
    "dP=0.01\n",
    "Pe=0.8"
   ]
  },
  {
   "cell_type": "code",
   "execution_count": null,
   "metadata": {},
   "outputs": [],
   "source": [
    "# Average asymmetry (longitudinal)\n",
    "num = integrate.quad(lambda rho: compton_asy_par(rho)*compton_xsec(rho),rhomin,1.0)\n",
    "A_avg = num[0]/xsect[0]\n",
    "t_avg = 1.0/(rate*dP**2*Pe**2*A_avg**2)\n",
    "print('Average longitudinal asymmetry: ', A_avg)\n",
    "print('Time for 1% measurement (s): ', t_avg)"
   ]
  },
  {
   "cell_type": "code",
   "execution_count": null,
   "metadata": {},
   "outputs": [],
   "source": [
    "# Differential measurement (longitudinal), avg. of A**2\n",
    "num = integrate.quad(lambda rho: (compton_asy_par(rho))**2*compton_xsec(rho),rhomin,1.0)\n",
    "A2_avg = num[0]/xsect[0]\n",
    "t_avg = 1.0/(rate*dP**2*Pe**2*A2_avg)\n",
    "print('sqrt(Average asymmetry**2): ', np.sqrt(A2_avg))\n",
    "print('Time for 1% measurement (s): ', t_avg)"
   ]
  },
  {
   "cell_type": "code",
   "execution_count": null,
   "metadata": {},
   "outputs": [],
   "source": [
    "# Energy-weighted asymmetry (long)\n",
    "num = integrate.quad(lambda rho: rho*(compton_asy_par(rho))*compton_xsec(rho),rhomin,1.0)\n",
    "den= integrate.quad(lambda rho: rho*compton_xsec(rho),rhomin,1.0)\n",
    "EgammaA_avg = num[0]/den[0]\n",
    "t_avg = 1.0/(rate*dP**2*Pe**2*EgammaA_avg**2)\n",
    "print('sqrt(Average asymmetry**2): ', np.sqrt(A2_avg))\n",
    "print('Time for 1% measurement (s): ', t_avg)"
   ]
  },
  {
   "cell_type": "code",
   "execution_count": null,
   "metadata": {},
   "outputs": [],
   "source": []
  }
 ],
 "metadata": {
  "kernelspec": {
   "display_name": "Python 3",
   "language": "python",
   "name": "python3"
  },
  "language_info": {
   "codemirror_mode": {
    "name": "ipython",
    "version": 3
   },
   "file_extension": ".py",
   "mimetype": "text/x-python",
   "name": "python",
   "nbconvert_exporter": "python",
   "pygments_lexer": "ipython3",
   "version": "3.8.11"
  }
 },
 "nbformat": 4,
 "nbformat_minor": 4
}
